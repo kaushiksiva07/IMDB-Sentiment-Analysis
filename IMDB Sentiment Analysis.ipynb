{
 "cells": [
  {
   "cell_type": "code",
   "execution_count": 1,
   "metadata": {},
   "outputs": [],
   "source": [
    "import pandas as pd\n",
    "import numpy as np\n",
    "import nltk\n",
    "from nltk.corpus import stopwords\n",
    "from nltk.tokenize import word_tokenize\n",
    "import tensorflow as tf\n",
    "from tensorflow.keras.preprocessing import sequence\n",
    "from tensorflow.keras.preprocessing.text import Tokenizer\n",
    "from tensorflow.keras.models import Sequential\n",
    "from tensorflow.keras.layers import Dense, Embedding, Dropout\n",
    "from tensorflow.keras.layers import LSTM\n",
    "from matplotlib import pyplot\n",
    "\n",
    "\n",
    "\n",
    "\n"
   ]
  },
  {
   "cell_type": "code",
   "execution_count": 3,
   "metadata": {},
   "outputs": [
    {
     "name": "stdout",
     "output_type": "stream",
     "text": [
      "                                                  Review\n",
      "0      Story of a man who has unnatural feelings for ...\n",
      "1      Airport '77 starts as a brand new luxury 747 p...\n",
      "2      This film lacked something I couldn't put my f...\n",
      "3      Sorry everyone,,, I know this is supposed to b...\n",
      "4      When I was little my parents took me along to ...\n",
      "...                                                  ...\n",
      "24995  Seeing as the vote average was pretty low, and...\n",
      "24996  The plot had some wretched, unbelievable twist...\n",
      "24997  I am amazed at how this movie(and most others ...\n",
      "24998  A Christmas Together actually came before my t...\n",
      "24999  Working-class romantic drama from director Mar...\n",
      "\n",
      "[25000 rows x 1 columns]\n",
      "       Score\n",
      "0          3\n",
      "1          4\n",
      "2          4\n",
      "3          1\n",
      "4          1\n",
      "...      ...\n",
      "24995      9\n",
      "24996      8\n",
      "24997     10\n",
      "24998      8\n",
      "24999      7\n",
      "\n",
      "[25000 rows x 1 columns]\n"
     ]
    }
   ],
   "source": [
    "df_reviews_train = pd.read_csv('aclImdb/train/trainReviews.txt', sep='delimiter', names=['Review'], engine = 'python')\n",
    "df_scores_train = pd.read_csv('aclImdb/train/IMDBValuesTrain.txt', sep='delimiter', names=['Score'], engine = 'python')\n",
    "\n",
    "df_reviews_test = pd.read_csv('aclImdb/test/testReviews.txt', sep='delimiter', names=['Review'], engine = 'python')\n",
    "df_scores_test = pd.read_csv('aclImdb/test/IMDBValuesTest.txt', sep='delimiter', names=['Score'], engine = 'python')\n",
    "\n",
    "print(df_reviews_train)\n",
    "print(df_scores_train)"
   ]
  },
  {
   "cell_type": "code",
   "execution_count": 4,
   "metadata": {},
   "outputs": [
    {
     "name": "stdout",
     "output_type": "stream",
     "text": [
      "                                                  Review\n",
      "0      [story, man, unnatural, feelings, pig, starts,...\n",
      "1      [airport, 77, starts, brand, new, luxury, 747,...\n",
      "2      [film, lacked, something, couldnt, put, finger...\n",
      "3      [sorry, everyone, know, supposed, art, film, w...\n",
      "4      [little, parents, took, along, theater, see, i...\n",
      "...                                                  ...\n",
      "24995  [seeing, vote, average, pretty, low, fact, cle...\n",
      "24996  [plot, wretched, unbelievable, twists, however...\n",
      "24997  [amazed, movieand, others, average, 5, stars, ...\n",
      "24998  [christmas, together, actually, came, time, iv...\n",
      "24999  [workingclass, romantic, drama, director, mart...\n",
      "\n",
      "[25000 rows x 1 columns]\n",
      "                                                  Review\n",
      "0      [mr, costner, dragged, movie, far, longer, nec...\n",
      "1      [example, majority, action, films, generic, bo...\n",
      "2      [first, hate, moronic, rappers, couldnt, act, ...\n",
      "3      [even, beatles, could, write, songs, everyone,...\n",
      "4      [brass, pictures, movies, fitting, word, reall...\n",
      "...                                                  ...\n",
      "24995  [extraordinarily, impressed, film, one, best, ...\n",
      "24996  [although, im, golf, fan, attended, sneak, pre...\n",
      "24997  [start, edge, love, viewer, transported, strik...\n",
      "24998  [movie, complexity, subtlety, makes, one, thou...\n",
      "24999  [ive, seen, story, kids, havent, boy, troubled...\n",
      "\n",
      "[25000 rows x 1 columns]\n"
     ]
    }
   ],
   "source": [
    "df_reviews_train['Review'] = df_reviews_train['Review'].str.lower()   # lowercase the Dataset\n",
    "df_reviews_test['Review'] = df_reviews_test['Review'].str.lower()\n",
    "\n",
    "df_reviews_train['Review'] = df_reviews_train['Review'].str.replace(r'[^\\w\\s]+', '')   # Remove Punctuation from Dataset\n",
    "df_reviews_test['Review'] = df_reviews_test['Review'].str.replace(r'[^\\w\\s]+', '')\n",
    "\n",
    "stop_words = set(stopwords.words('english'))\n",
    "df_reviews_train['Review'] = df_reviews_train['Review'].apply(lambda review: [i for i in review.split() if i not in stop_words])   # Remove Stopwords\n",
    "df_reviews_test['Review'] = df_reviews_test['Review'].apply(lambda review: [i for i in review.split() if i not in stop_words])   # Remove Stopwords\n",
    "\n",
    "\n",
    "print(df_reviews_train)\n",
    "print(df_reviews_test)"
   ]
  },
  {
   "cell_type": "code",
   "execution_count": 5,
   "metadata": {},
   "outputs": [
    {
     "name": "stdout",
     "output_type": "stream",
     "text": [
      "       Score\n",
      "0          0\n",
      "1          0\n",
      "2          0\n",
      "3          0\n",
      "4          0\n",
      "...      ...\n",
      "24995      1\n",
      "24996      1\n",
      "24997      1\n",
      "24998      1\n",
      "24999      1\n",
      "\n",
      "[25000 rows x 1 columns]\n",
      "       Score\n",
      "0          0\n",
      "1          0\n",
      "2          0\n",
      "3          0\n",
      "4          0\n",
      "...      ...\n",
      "24995      1\n",
      "24996      1\n",
      "24997      1\n",
      "24998      1\n",
      "24999      1\n",
      "\n",
      "[25000 rows x 1 columns]\n"
     ]
    }
   ],
   "source": [
    "# Change Review Score to Binary Score\n",
    "for score in df_scores_train['Score']:\n",
    "    if score <= 5:\n",
    "        df_scores_train = df_scores_train.replace(score, 0)\n",
    "    else:\n",
    "        df_scores_train = df_scores_train.replace(score, 1)\n",
    "\n",
    "for score in df_scores_test['Score']:\n",
    "    if score <= 5:\n",
    "        df_scores_test = df_scores_test.replace(score, 0)\n",
    "    else:\n",
    "        df_scores_test = df_scores_test.replace(score, 1)\n",
    "print (df_scores_train)\n",
    "print (df_scores_test)"
   ]
  },
  {
   "cell_type": "code",
   "execution_count": 6,
   "metadata": {},
   "outputs": [],
   "source": [
    "# Length of the longest review\n",
    "review_length = []\n",
    "for review in df_reviews_train['Review']:\n",
    "    review_length.append(len(review))\n",
    "\n",
    "max_review = int(np.ceil(np.mean(review_length)))\n"
   ]
  },
  {
   "cell_type": "code",
   "execution_count": 7,
   "metadata": {
    "scrolled": true
   },
   "outputs": [
    {
     "name": "stdout",
     "output_type": "stream",
     "text": [
      "[[   11    49  7487 ...     0     0     0]\n",
      " [ 2899  1542  2069 ...  4362 13466  5454]\n",
      " [    3  3459    53 ...     0     0     0]\n",
      " ...\n",
      " [   71    14    19 ...   976   107  9625]\n",
      " [  845   192    66 ...     0     0     0]\n",
      " [13545   605   367 ...     0     0     0]]\n",
      "[[  328 12069  3133 ...     0     0     0]\n",
      " [  250   115    10 ...     3    82  2743]\n",
      " [   20   667  4855 ...     0     0     0]\n",
      " ...\n",
      " [   57   228     2 ...  3584    49   202]\n",
      " [    2  4551  4047 ...     0     0     0]\n",
      " [   99    33    11 ...     0     0     0]]\n"
     ]
    }
   ],
   "source": [
    "# Converts words into integers\n",
    "tokenizer = Tokenizer()\n",
    "tokenizer.fit_on_texts(df_reviews_train['Review'])\n",
    "df_reviews_train['Review'] = tokenizer.texts_to_sequences(df_reviews_train['Review'])\n",
    "df_reviews_test['Review'] = tokenizer.texts_to_sequences(df_reviews_test['Review'])\n",
    "\n",
    "df_reviews_train = sequence.pad_sequences(df_reviews_train['Review'], maxlen = max_review, padding = 'post')\n",
    "df_reviews_test = sequence.pad_sequences(df_reviews_test['Review'], maxlen = max_review, padding = 'post')\n",
    "\n",
    "print(df_reviews_train)\n",
    "print(df_reviews_test)\n",
    "\n"
   ]
  },
  {
   "cell_type": "code",
   "execution_count": 8,
   "metadata": {},
   "outputs": [
    {
     "name": "stdout",
     "output_type": "stream",
     "text": [
      "Model: \"sequential\"\n",
      "_________________________________________________________________\n",
      "Layer (type)                 Output Shape              Param #   \n",
      "=================================================================\n",
      "embedding (Embedding)        (None, 125, 128)          15592960  \n",
      "_________________________________________________________________\n",
      "lstm (LSTM)                  (None, 64)                49408     \n",
      "_________________________________________________________________\n",
      "dropout (Dropout)            (None, 64)                0         \n",
      "_________________________________________________________________\n",
      "dense (Dense)                (None, 50)                3250      \n",
      "_________________________________________________________________\n",
      "dropout_1 (Dropout)          (None, 50)                0         \n",
      "_________________________________________________________________\n",
      "dense_1 (Dense)              (None, 50)                2550      \n",
      "_________________________________________________________________\n",
      "dense_2 (Dense)              (None, 1)                 51        \n",
      "=================================================================\n",
      "Total params: 15,648,219\n",
      "Trainable params: 15,648,219\n",
      "Non-trainable params: 0\n",
      "_________________________________________________________________\n",
      "None\n"
     ]
    }
   ],
   "source": [
    "# Model\n",
    "model = Sequential()\n",
    "model.add(Embedding(len(tokenizer.word_index) + 1, 128, input_length = max_review))\n",
    "model.add(LSTM(64))\n",
    "model.add(Dropout(0.5))\n",
    "model.add(Dense(50, activation = \"relu\"))\n",
    "model.add(Dropout(0.5))\n",
    "model.add(Dense(50, activation = \"relu\"))\n",
    "model.add(Dense(1, activation = 'sigmoid'))\n",
    "\n",
    "model.compile(loss = 'binary_crossentropy', optimizer = 'adam', metrics = ['accuracy'])\n",
    "\n",
    "print(model.summary())\n",
    "\n",
    "\n"
   ]
  },
  {
   "cell_type": "code",
   "execution_count": 9,
   "metadata": {},
   "outputs": [
    {
     "name": "stdout",
     "output_type": "stream",
     "text": [
      "Epoch 1/2\n",
      "196/196 - 44s - loss: 0.6052 - accuracy: 0.6384 - val_loss: 0.4214 - val_accuracy: 0.8284\n",
      "Epoch 2/2\n",
      "196/196 - 41s - loss: 0.2801 - accuracy: 0.9018 - val_loss: 0.3515 - val_accuracy: 0.8624\n"
     ]
    }
   ],
   "source": [
    "# Training\n",
    "history = model.fit(df_reviews_train, df_scores_train,\n",
    "          batch_size = 128, epochs = 2, verbose = 2, validation_data = (df_reviews_test, df_scores_test))"
   ]
  },
  {
   "cell_type": "code",
   "execution_count": 10,
   "metadata": {},
   "outputs": [
    {
     "data": {
      "image/png": "[encoded data removed]",
      "text/plain": [
       "<Figure size 432x288 with 1 Axes>"
      ]
     },
     "metadata": {
      "needs_background": "light"
     },
     "output_type": "display_data"
    }
   ],
   "source": [
    "# Analyzing Fit\n",
    "pyplot.plot(history.history['loss'])\n",
    "pyplot.plot(history.history['val_loss'])\n",
    "pyplot.title('model train vs validation loss')\n",
    "pyplot.ylabel('loss')\n",
    "pyplot.xlabel('epoch')\n",
    "pyplot.legend(['train', 'validation'], loc='upper right')\n",
    "pyplot.show()"
   ]
  },
  {
   "cell_type": "code",
   "execution_count": 11,
   "metadata": {},
   "outputs": [
    {
     "name": "stdout",
     "output_type": "stream",
     "text": [
      "196/196 [==============================] - 5s 27ms/step - loss: 0.3515 - accuracy: 0.8624\n",
      "[0.35146602988243103, 0.8623600006103516]\n"
     ]
    }
   ],
   "source": [
    "# Testing\n",
    "results = model.evaluate(df_reviews_test, df_scores_test, batch_size=128)\n",
    "print(results)"
   ]
  },
  {
   "cell_type": "code",
   "execution_count": null,
   "metadata": {},
   "outputs": [],
   "source": []
  }
 ],
 "metadata": {
  "kernelspec": {
   "display_name": "Python 3",
   "language": "python",
   "name": "python3"
  },
  "language_info": {
   "codemirror_mode": {
    "name": "ipython",
    "version": 3
   },
   "file_extension": ".py",
   "mimetype": "text/x-python",
   "name": "python",
   "nbconvert_exporter": "python",
   "pygments_lexer": "ipython3",
   "version": "3.8.5"
  }
 },
 "nbformat": 4,
 "nbformat_minor": 4
}
